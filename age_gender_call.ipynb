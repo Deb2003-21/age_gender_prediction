{
 "cells": [
  {
   "cell_type": "code",
   "execution_count": 1,
   "id": "b1a1e83a-6724-4397-b2c4-a1177ea3c526",
   "metadata": {},
   "outputs": [],
   "source": [
    "from tensorflow.keras.preprocessing import image\n",
    "from tensorflow.keras.models import load_model\n",
    "from flask import Flask, request, jsonify\n",
    "import numpy as np\n",
    "import threading\n",
    "import time\n",
    "import cv2\n",
    "import matplotlib.pyplot as plt\n",
    "from tensorflow.keras.applications.resnet50 import preprocess_input\n",
    "from flask_cors import cross_origin"
   ]
  },
  {
   "cell_type": "code",
   "execution_count": 3,
   "id": "3ac7e4c7-7432-4410-93a0-d94e27b59407",
   "metadata": {},
   "outputs": [],
   "source": [
    "# model\n",
    "model2 = load_model(\"C:\\\\Users\\\\HP\\\\OneDrive\\\\Desktop\\\\age_gender.h5\",compile=False)  "
   ]
  },
  {
   "cell_type": "code",
   "execution_count": 5,
   "id": "24b0f7cd-8a8b-4adb-bc0c-704d3b4f9106",
   "metadata": {},
   "outputs": [],
   "source": [
    "# gender dictanory\n",
    "gender_dict={0:'Male',1:'Female'}"
   ]
  },
  {
   "cell_type": "code",
   "execution_count": null,
   "id": "c5ca45af-0c75-49be-8480-18b75d5c966a",
   "metadata": {},
   "outputs": [
    {
     "name": "stdout",
     "output_type": "stream",
     "text": [
      " * Serving Flask app '__main__'\n",
      " * Debug mode: off\n"
     ]
    },
    {
     "name": "stderr",
     "output_type": "stream",
     "text": [
      "WARNING: This is a development server. Do not use it in a production deployment. Use a production WSGI server instead.\n",
      " * Running on http://127.0.0.1:5000\n",
      "Press CTRL+C to quit\n"
     ]
    },
    {
     "name": "stdout",
     "output_type": "stream",
     "text": [
      "\u001b[1m1/1\u001b[0m \u001b[32m━━━━━━━━━━━━━━━━━━━━\u001b[0m\u001b[37m\u001b[0m \u001b[1m0s\u001b[0m 393ms/step\n"
     ]
    },
    {
     "name": "stderr",
     "output_type": "stream",
     "text": [
      "127.0.0.1 - - [01/Aug/2025 12:37:24] \"POST /predict HTTP/1.1\" 200 -\n"
     ]
    },
    {
     "name": "stdout",
     "output_type": "stream",
     "text": [
      "55\n",
      "\u001b[1m1/1\u001b[0m \u001b[32m━━━━━━━━━━━━━━━━━━━━\u001b[0m\u001b[37m\u001b[0m \u001b[1m0s\u001b[0m 124ms/step\n"
     ]
    },
    {
     "name": "stderr",
     "output_type": "stream",
     "text": [
      "127.0.0.1 - - [01/Aug/2025 12:38:53] \"POST /predict HTTP/1.1\" 200 -\n"
     ]
    },
    {
     "name": "stdout",
     "output_type": "stream",
     "text": [
      "47\n"
     ]
    }
   ],
   "source": [
    "app = Flask(__name__)\n",
    "\n",
    "@app.route('/predict', methods=['POST'])\n",
    "@cross_origin(\"*\")\n",
    "def predict():\n",
    "\n",
    "    #image validation\n",
    "    if 'image' not in request.files:\n",
    "        return jsonify({\"error\": \"No image uploaded\"}), 400\n",
    "        \n",
    "    file = request.files['image']\n",
    "    npimg = np.frombuffer(file.read(), np.uint8)\n",
    "    img = cv2.imdecode(npimg, cv2.IMREAD_GRAYSCALE)\n",
    "    image_resized = cv2.resize(img, (128, 128))       # resize to model input\n",
    "    image_np = image_resized.reshape(1, 128, 128, 1)     # add batch and channel dims\n",
    "    image_np = image_np / 255.0                          # normalize if model expects this\n",
    "\n",
    "    # Predict\n",
    "    pred = model2.predict(image_np)\n",
    "    pred_gender=gender_dict[(round(pred[0][0][0]))]\n",
    "    pred_age=round(pred[1][0][0])\n",
    "\n",
    "    print(pred_age)\n",
    "    \n",
    "    # Store results\n",
    "    return jsonify({\n",
    "    \"gender\": pred_gender,\n",
    "    \"age\": pred_age\n",
    "    })\n",
    "\n",
    "    \n",
    "if __name__ == '__main__':\n",
    "    app.run()"
   ]
  },
  {
   "cell_type": "code",
   "execution_count": null,
   "id": "3e37a6e3-524d-4544-9a89-048b3ed9a0a8",
   "metadata": {},
   "outputs": [],
   "source": []
  }
 ],
 "metadata": {
  "kernelspec": {
   "display_name": "Python 3 (ipykernel)",
   "language": "python",
   "name": "python3"
  },
  "language_info": {
   "codemirror_mode": {
    "name": "ipython",
    "version": 3
   },
   "file_extension": ".py",
   "mimetype": "text/x-python",
   "name": "python",
   "nbconvert_exporter": "python",
   "pygments_lexer": "ipython3",
   "version": "3.12.7"
  }
 },
 "nbformat": 4,
 "nbformat_minor": 5
}
